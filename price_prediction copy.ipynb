{
 "cells": [
  {
   "cell_type": "code",
   "execution_count": null,
   "metadata": {},
   "outputs": [],
   "source": [
    "import pandas as pd\n",
    "import numpy as np\n",
    "import matplotlib.pyplot as plt\n",
    "import matplotlib as mpl\n",
    "\n",
    "# %matplotlib inline\n",
    "mpl.style.use(\"ggplot\")\n"
   ]
  },
  {
   "cell_type": "code",
   "execution_count": null,
   "metadata": {},
   "outputs": [],
   "source": [
    "car = pd.read_csv(\"./car_resale_prices.csv\")\n",
    "car.head()\n"
   ]
  },
  {
   "cell_type": "code",
   "execution_count": null,
   "metadata": {},
   "outputs": [],
   "source": [
    "print(\"Shape: \", car.shape)\n",
    "car.info()\n"
   ]
  },
  {
   "cell_type": "code",
   "execution_count": null,
   "metadata": {},
   "outputs": [],
   "source": [
    "cars_new = pd.DataFrame()\n",
    "# car[\n",
    "#     [\n",
    "#         \"full_name\",\n",
    "#         \"resale_price\",\n",
    "#         \"registered_year\",\n",
    "#         \"engine_capacity\",\n",
    "#         \"transmission_type\",\n",
    "#         \"kms_driven\",\n",
    "#         \"owner_type\",\n",
    "#         \"fuel_type\",\n",
    "#         \"max_power\",\n",
    "#         \"seats\",\n",
    "#         \"mileage\",\n",
    "#         \"body_type\",\n",
    "#     ]\n",
    "# ]\n"
   ]
  },
  {
   "cell_type": "markdown",
   "metadata": {},
   "source": [
    "## Cleaning data\n",
    "### Removing year from full_name"
   ]
  },
  {
   "cell_type": "code",
   "execution_count": null,
   "metadata": {},
   "outputs": [],
   "source": [
    "print(car[\"full_name\"].isnull().sum())\n",
    "\n",
    "cars_new[\"full_name\"] = car[\"full_name\"].map(lambda x: x[5:])\n",
    "\n",
    "cars_new[\"full_name\"]\n"
   ]
  },
  {
   "cell_type": "code",
   "execution_count": null,
   "metadata": {},
   "outputs": [],
   "source": [
    "import re\n",
    "\n",
    "print(car[\"resale_price\"].isnull().sum())\n",
    "\n",
    "cars_new[\"resale_price\"] = car[\"resale_price\"].map(\n",
    "    lambda x: float(re.search(r\"\\d+(\\.\\d+)?\", x).group(0)) * 100000\n",
    ")\n",
    "\n",
    "cars_new[\"resale_price\"]\n"
   ]
  },
  {
   "cell_type": "code",
   "execution_count": null,
   "metadata": {},
   "outputs": [],
   "source": [
    "print(car[\"registered_year\"].isnull().sum())\n",
    "\n",
    "cars_new[\"registered_year\"] = car[\"full_name\"].map(\n",
    "    lambda x: int(re.search(r\"\\d{4}\", str(x)).group(0))\n",
    ")\n",
    "\n",
    "cars_new[\"registered_year\"]\n"
   ]
  },
  {
   "cell_type": "code",
   "execution_count": null,
   "metadata": {},
   "outputs": [],
   "source": [
    "# car[\"engine_capacity\"].info()\n",
    "# check for null values\n",
    "print(car[\"engine_capacity\"].isnull().sum())\n",
    "\n",
    "cars_new[\"engine_capacity\"] = car[\"engine_capacity\"].map(\n",
    "    lambda x: pd.NA\n",
    "    if re.search(r\"\\d+\", str(x)) is None\n",
    "    else int(re.search(r\"\\d+\", str(x)).group(0))\n",
    ")\n",
    "\n",
    "cars_new[\"engine_capacity\"]\n"
   ]
  },
  {
   "cell_type": "code",
   "execution_count": null,
   "metadata": {},
   "outputs": [],
   "source": [
    "print(car[\"transmission_type\"].isnull().sum())\n",
    "\n",
    "cars_new[\"transmission_type\"] = car[\"transmission_type\"]\n",
    "\n",
    "cars_new[\"transmission_type\"]\n"
   ]
  },
  {
   "cell_type": "code",
   "execution_count": null,
   "metadata": {},
   "outputs": [],
   "source": [
    "print(car[\"kms_driven\"].isnull().sum())\n",
    "\n",
    "cars_new[\"kms_driven\"] = car[\"kms_driven\"].map(\n",
    "    lambda x: pd.NA\n",
    "    if re.search(r\"\\d+\", str(x).replace(\",\", \"\")) is None\n",
    "    else int(re.search(r\"\\d+\", str(x).replace(\",\", \"\")).group(0))\n",
    ")\n",
    "\n",
    "cars_new[\"kms_driven\"]\n"
   ]
  },
  {
   "cell_type": "code",
   "execution_count": null,
   "metadata": {},
   "outputs": [],
   "source": [
    "print(car[\"owner_type\"].isnull().sum())\n",
    "\n",
    "cars_new[\"owner_type\"] = car[\"owner_type\"]\n",
    "\n",
    "cars_new[\"owner_type\"]\n"
   ]
  },
  {
   "cell_type": "code",
   "execution_count": null,
   "metadata": {},
   "outputs": [],
   "source": [
    "print(car[\"fuel_type\"].isnull().sum())\n",
    "\n",
    "cars_new[\"fuel_type\"] = car[\"fuel_type\"]\n",
    "\n",
    "cars_new[\"fuel_type\"]\n"
   ]
  },
  {
   "cell_type": "code",
   "execution_count": null,
   "metadata": {},
   "outputs": [],
   "source": [
    "print(car[\"seats\"].isnull().sum())\n",
    "\n",
    "cars_new[\"seats\"] = car[\"seats\"].map(\n",
    "    lambda x: pd.NA\n",
    "    if re.search(r\"\\d+\", str(x)) is None\n",
    "    else int(re.search(r\"\\d+\", str(x)).group(0))\n",
    ")\n",
    "\n",
    "cars_new[\"seats\"]\n"
   ]
  },
  {
   "cell_type": "code",
   "execution_count": null,
   "metadata": {},
   "outputs": [],
   "source": [
    "print(car[\"mileage\"].isnull().sum())\n",
    "\n",
    "cars_new[\"mileage\"] = car[\"mileage\"].map(\n",
    "    lambda x: pd.NA\n",
    "    if re.search(r\"\\d+(\\.\\d+)?\", str(x)) is None\n",
    "    else float(re.search(r\"\\d+(\\.\\d+)?\", str(x)).group(0))\n",
    ")\n",
    "\n",
    "cars_new[\"mileage\"]\n"
   ]
  },
  {
   "cell_type": "code",
   "execution_count": null,
   "metadata": {},
   "outputs": [],
   "source": [
    "print(car[\"body_type\"].isnull().sum())\n",
    "cars_new[\"body_type\"] = car[\"body_type\"]\n",
    "\n",
    "cars_new[\"body_type\"].unique()\n"
   ]
  },
  {
   "cell_type": "code",
   "execution_count": null,
   "metadata": {},
   "outputs": [],
   "source": [
    "print(car[\"full_name\"].isnull().sum())\n",
    "\n",
    "cars_new[\"brand\"] = cars_new[\"full_name\"].map(\n",
    "    lambda x: pd.NA if str(x).split(\" \")[0] is None else str(x).split(\" \")[0]\n",
    ")\n",
    "\n",
    "cars_new[\"brand\"].unique()\n"
   ]
  },
  {
   "cell_type": "code",
   "execution_count": null,
   "metadata": {},
   "outputs": [],
   "source": [
    "cars_new.dropna(how=\"any\", inplace=True)\n",
    "\n",
    "cleaned_cars = pd.DataFrame()\n",
    "\n",
    "cleaned_cars[\"full_name\"] = cars_new[\"full_name\"]\n",
    "cleaned_cars[\"brand\"] = cars_new[\"brand\"]\n",
    "cleaned_cars[\"resale_price\"] = cars_new[\"resale_price\"]\n",
    "cleaned_cars[\"registered_year\"] = cars_new[\"registered_year\"]\n",
    "cleaned_cars[\"engine_capacity\"] = cars_new[\"engine_capacity\"].astype(float)\n",
    "cleaned_cars[\"kms_driven\"] = cars_new[\"kms_driven\"].astype(int)\n",
    "cleaned_cars[\"owner_type\"] = cars_new[\"owner_type\"]\n",
    "cleaned_cars[\"transmission_type\"] = cars_new[\"transmission_type\"]\n",
    "cleaned_cars[\"fuel_type\"] = cars_new[\"fuel_type\"]\n",
    "cleaned_cars[\"mileage\"] = cars_new[\"mileage\"].astype(float)\n",
    "cleaned_cars[\"body_type\"] = cars_new[\"body_type\"]\n",
    "cleaned_cars[\"seats\"] = cars_new[\"seats\"].astype(int)\n",
    "\n",
    "cleaned_cars = cleaned_cars.reset_index(drop=True)\n",
    "\n",
    "cleaned_cars.info()\n",
    "\n",
    "# export to csv\n",
    "cleaned_cars.to_csv(\"./cleaned_cars.csv\")\n"
   ]
  },
  {
   "cell_type": "code",
   "execution_count": null,
   "metadata": {},
   "outputs": [],
   "source": [
    "cleaned_cars.describe(include=\"all\")\n"
   ]
  },
  {
   "cell_type": "code",
   "execution_count": null,
   "metadata": {},
   "outputs": [],
   "source": [
    "import seaborn as sns\n",
    "\n",
    "label = [\"Diesel\", \"Petrol\", \"CNG\", \"Electric\"]\n",
    "col = [\"red\", \"blue\", \"green\", \"yellow\"]\n",
    "\n",
    "for i, j in zip(label, col):\n",
    "    sns.kdeplot(\n",
    "        cleaned_cars.loc[(cleaned_cars[\"fuel_type\"] == i), \"resale_price\"],\n",
    "        color=j,\n",
    "        fill=True,\n",
    "        label=i,\n",
    "        legend=True,\n",
    "    )\n",
    "\n",
    "# show legend\n"
   ]
  },
  {
   "cell_type": "code",
   "execution_count": null,
   "metadata": {},
   "outputs": [],
   "source": [
    "plt.subplots(figsize=(15, 7))\n",
    "# change lin color to blue\n",
    "ax = sns.boxplot(x=\"brand\", y=\"resale_price\", data=cleaned_cars)\n",
    "ax.set_xticklabels(ax.get_xticklabels(), rotation=40, ha=\"right\")\n",
    "\n",
    "plt.show()\n"
   ]
  },
  {
   "cell_type": "code",
   "execution_count": null,
   "metadata": {},
   "outputs": [],
   "source": [
    "plt.subplots(figsize=(15, 7))\n",
    "ax = sns.stripplot(x=\"registered_year\", y=\"resale_price\", data=cleaned_cars)\n",
    "ax.set_xticklabels(ax.get_xticklabels(), rotation=40, ha=\"right\")\n",
    "\n",
    "plt.show()\n"
   ]
  },
  {
   "cell_type": "code",
   "execution_count": null,
   "metadata": {},
   "outputs": [],
   "source": [
    "plot = sns.relplot(\n",
    "    x=\"kms_driven\", y=\"resale_price\", data=cleaned_cars, height=7, aspect=1.5\n",
    ")\n",
    "\n",
    "plot.set(xlim=(0, 250000))\n"
   ]
  },
  {
   "cell_type": "code",
   "execution_count": null,
   "metadata": {},
   "outputs": [],
   "source": [
    "plt.subplots(figsize=(15, 7))\n",
    "# change lin color to blue\n",
    "ax = sns.lineplot(x=\"fuel_type\", y=\"resale_price\", data=cleaned_cars)\n",
    "ax.set_xticklabels(ax.get_xticklabels(), rotation=40, ha=\"right\")\n",
    "\n",
    "plt.show()\n"
   ]
  },
  {
   "cell_type": "code",
   "execution_count": null,
   "metadata": {},
   "outputs": [],
   "source": [
    "ax = sns.relplot(\n",
    "    x=\"brand\",\n",
    "    y=\"resale_price\",\n",
    "    data=cleaned_cars,\n",
    "    hue=\"fuel_type\",\n",
    "    size=\"registered_year\",\n",
    "    height=7,\n",
    "    aspect=2,\n",
    ")\n",
    "ax.set_xticklabels(rotation=40, ha=\"right\")\n"
   ]
  },
  {
   "cell_type": "code",
   "execution_count": null,
   "metadata": {},
   "outputs": [],
   "source": [
    "sns.heatmap(\n",
    "    data=cleaned_cars[\n",
    "        [\n",
    "            \"mileage\",\n",
    "            \"engine_capacity\",\n",
    "            \"seats\",\n",
    "            \"resale_price\",\n",
    "            \"registered_year\",\n",
    "            \"kms_driven\",\n",
    "        ]\n",
    "    ].corr(),\n",
    "    cmap=\"YlGnBu\",\n",
    "    # square=True,\n",
    ")\n"
   ]
  },
  {
   "cell_type": "code",
   "execution_count": null,
   "metadata": {},
   "outputs": [],
   "source": [
    "features_list = [\n",
    "    # \"full_name\",\n",
    "    # \"brand\",\n",
    "    # \"fuel_type\",\n",
    "    # \"owner_type\",\n",
    "    # \"body_type\",\n",
    "    # \"transmission_type\",\n",
    "    \"mileage\",\n",
    "    \"seats\",\n",
    "    \"engine_capacity\",\n",
    "    \"kms_driven\",\n",
    "    \"registered_year\",\n",
    "]\n",
    "\n",
    "X = cleaned_cars[features_list]\n",
    "\n",
    "others = [\n",
    "    \"full_name\",\n",
    "    \"brand\",\n",
    "    \"fuel_type\",\n",
    "    \"owner_type\",\n",
    "    \"body_type\",\n",
    "    \"transmission_type\",\n",
    "]\n",
    "\n",
    "for col in others:\n",
    "    X[col] = pd.factorize(cleaned_cars[col])[0]\n",
    "\n",
    "Y = cleaned_cars[\"resale_price\"]\n",
    "\n",
    "X\n"
   ]
  },
  {
   "cell_type": "code",
   "execution_count": null,
   "metadata": {},
   "outputs": [],
   "source": [
    "Y\n"
   ]
  },
  {
   "cell_type": "code",
   "execution_count": null,
   "metadata": {},
   "outputs": [],
   "source": [
    "from sklearn.model_selection import train_test_split\n",
    "\n",
    "X_train, X_test, Y_train, Y_test = train_test_split(X, Y, test_size=0.2)\n"
   ]
  },
  {
   "cell_type": "code",
   "execution_count": 31,
   "metadata": {},
   "outputs": [
    {
     "name": "stdout",
     "output_type": "stream",
     "text": [
      "0.6573784099945821\n"
     ]
    }
   ],
   "source": [
    "from sklearn.ensemble import RandomForestRegressor\n",
    "\n",
    "rf = RandomForestRegressor()\n",
    "\n",
    "rf.fit(X_train, Y_train)\n",
    "\n",
    "rf_score = rf.score(X_test, Y_test)\n",
    "\n",
    "print(rf_score)\n"
   ]
  },
  {
   "cell_type": "code",
   "execution_count": 34,
   "metadata": {},
   "outputs": [],
   "source": [
    "scores = []\n",
    "for i in range(50):\n",
    "    X_train, X_test, Y_train, Y_test = train_test_split(\n",
    "        X, Y, test_size=0.1, random_state=i\n",
    "    )\n",
    "    rf = RandomForestRegressor()\n",
    "    rf.fit(X_train, Y_train)\n",
    "    # Y_pred = rf.predict(X_test)\n",
    "    scores.append(rf.score(X_test, Y_test))\n"
   ]
  },
  {
   "cell_type": "code",
   "execution_count": 35,
   "metadata": {},
   "outputs": [
    {
     "data": {
      "text/plain": [
       "0.7660143567725998"
      ]
     },
     "execution_count": 35,
     "metadata": {},
     "output_type": "execute_result"
    }
   ],
   "source": [
    "np.argmax(scores)\n",
    "scores[np.argmax(scores)]\n"
   ]
  }
 ],
 "metadata": {
  "kernelspec": {
   "display_name": "venv",
   "language": "python",
   "name": "python3"
  },
  "language_info": {
   "codemirror_mode": {
    "name": "ipython",
    "version": 3
   },
   "file_extension": ".py",
   "mimetype": "text/x-python",
   "name": "python",
   "nbconvert_exporter": "python",
   "pygments_lexer": "ipython3",
   "version": "3.11.5"
  },
  "orig_nbformat": 4
 },
 "nbformat": 4,
 "nbformat_minor": 2
}
